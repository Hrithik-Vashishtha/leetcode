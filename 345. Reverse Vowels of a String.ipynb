{
 "cells": [
  {
   "cell_type": "code",
   "execution_count": 12,
   "id": "29a293f6",
   "metadata": {},
   "outputs": [
    {
     "name": "stdout",
     "output_type": "stream",
     "text": [
      "Aa\n"
     ]
    }
   ],
   "source": [
    "def reverseVowels(s):\n",
    "    vowels = set(\"aeiouAEIOU\")\n",
    "    l = list(s)\n",
    "    i, j = 0, len(s) - 1\n",
    "\n",
    "    while i < j:\n",
    "        if l[i] in vowels and l[j] in vowels:\n",
    "            l[i], l[j] = l[j], l[i]\n",
    "            i += 1\n",
    "            j -= 1\n",
    "        elif l[i] not in vowels:\n",
    "            i += 1\n",
    "        elif l[j] not in vowels:\n",
    "            j -= 1\n",
    "        else:\n",
    "            i += 1\n",
    "            j -= 1\n",
    "\n",
    "    return ''.join(l)\n",
    "\n",
    "s = \"aA\"\n",
    "print(reverseVowels(s))"
   ]
  },
  {
   "cell_type": "code",
   "execution_count": 13,
   "id": "b0cf0e52",
   "metadata": {},
   "outputs": [],
   "source": [
    "s = \"aA\"\n",
    "l = list(s)"
   ]
  },
  {
   "cell_type": "code",
   "execution_count": 14,
   "id": "afc9e54e",
   "metadata": {},
   "outputs": [
    {
     "data": {
      "text/plain": [
       "['a', 'A']"
      ]
     },
     "execution_count": 14,
     "metadata": {},
     "output_type": "execute_result"
    }
   ],
   "source": [
    "l"
   ]
  },
  {
   "cell_type": "code",
   "execution_count": 15,
   "id": "f10f7524",
   "metadata": {},
   "outputs": [
    {
     "name": "stderr",
     "output_type": "stream",
     "text": [
      "fatal: pathspec 'status' did not match any files\n"
     ]
    }
   ],
   "source": [
    "!git add status"
   ]
  },
  {
   "cell_type": "code",
   "execution_count": null,
   "id": "3bb2495f",
   "metadata": {},
   "outputs": [],
   "source": []
  }
 ],
 "metadata": {
  "kernelspec": {
   "display_name": "Python 3 (ipykernel)",
   "language": "python",
   "name": "python3"
  },
  "language_info": {
   "codemirror_mode": {
    "name": "ipython",
    "version": 3
   },
   "file_extension": ".py",
   "mimetype": "text/x-python",
   "name": "python",
   "nbconvert_exporter": "python",
   "pygments_lexer": "ipython3",
   "version": "3.8.18"
  }
 },
 "nbformat": 4,
 "nbformat_minor": 5
}
