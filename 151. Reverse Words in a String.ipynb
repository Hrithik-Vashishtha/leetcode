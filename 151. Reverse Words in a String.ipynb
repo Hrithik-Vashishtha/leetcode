{
 "cells": [
  {
   "cell_type": "code",
   "execution_count": 6,
   "id": "0a0c4f95",
   "metadata": {},
   "outputs": [],
   "source": [
    "def reverseWords(s):\n",
    "    s = s.split(\" \")\n",
    "    s = s[::-1]\n",
    "    output = \"\"\n",
    "    for i in s:\n",
    "        output = output + \" \" + i\n",
    "    i = 0\n",
    "    while True:\n",
    "        if output[i] == \" \":\n",
    "            output[i+1:]\n",
    "            i += 1\n",
    "        else:\n",
    "            break\n",
    "    j = len(output)-1\n",
    "    while True:\n",
    "        if output[j] == \" \":\n",
    "            output[:j-1]\n",
    "            j -= 1\n",
    "        else:\n",
    "            break\n",
    "    return output\n",
    "s = \"the sky is blue\"\n",
    "s = reverseWords(s)"
   ]
  },
  {
   "cell_type": "code",
   "execution_count": 7,
   "id": "70d9baa6",
   "metadata": {},
   "outputs": [
    {
     "data": {
      "text/plain": [
       "' blue is sky the'"
      ]
     },
     "execution_count": 7,
     "metadata": {},
     "output_type": "execute_result"
    }
   ],
   "source": [
    "s"
   ]
  },
  {
   "cell_type": "code",
   "execution_count": null,
   "id": "57dff329",
   "metadata": {},
   "outputs": [],
   "source": []
  }
 ],
 "metadata": {
  "kernelspec": {
   "display_name": "Python 3 (ipykernel)",
   "language": "python",
   "name": "python3"
  },
  "language_info": {
   "codemirror_mode": {
    "name": "ipython",
    "version": 3
   },
   "file_extension": ".py",
   "mimetype": "text/x-python",
   "name": "python",
   "nbconvert_exporter": "python",
   "pygments_lexer": "ipython3",
   "version": "3.8.18"
  }
 },
 "nbformat": 4,
 "nbformat_minor": 5
}
