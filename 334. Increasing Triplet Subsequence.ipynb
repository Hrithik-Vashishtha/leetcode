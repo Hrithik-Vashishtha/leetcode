{
 "cells": [
  {
   "cell_type": "code",
   "execution_count": 22,
   "id": "5b72dcf2",
   "metadata": {},
   "outputs": [],
   "source": [
    "def increasingTriplet(nums):\n",
    "    first = float('inf')\n",
    "    second = float('inf')\n",
    "\n",
    "    for num in nums:\n",
    "        if num <= first:\n",
    "            first = num\n",
    "        elif num <= second:\n",
    "            second = num\n",
    "        else:\n",
    "            return True\n",
    "\n",
    "    return False"
   ]
  },
  {
   "cell_type": "code",
   "execution_count": 27,
   "id": "fafb72fe",
   "metadata": {},
   "outputs": [
    {
     "name": "stdout",
     "output_type": "stream",
     "text": [
      "False\n"
     ]
    }
   ],
   "source": [
    "nums = [1,0,0,99999999]\n",
    "print(increasingTriplet(nums))"
   ]
  },
  {
   "cell_type": "code",
   "execution_count": null,
   "id": "e03f17b0",
   "metadata": {},
   "outputs": [],
   "source": []
  }
 ],
 "metadata": {
  "kernelspec": {
   "display_name": "Python 3 (ipykernel)",
   "language": "python",
   "name": "python3"
  },
  "language_info": {
   "codemirror_mode": {
    "name": "ipython",
    "version": 3
   },
   "file_extension": ".py",
   "mimetype": "text/x-python",
   "name": "python",
   "nbconvert_exporter": "python",
   "pygments_lexer": "ipython3",
   "version": "3.8.18"
  }
 },
 "nbformat": 4,
 "nbformat_minor": 5
}
