{
 "cells": [
  {
   "cell_type": "code",
   "execution_count": 5,
   "id": "e67cb5e8",
   "metadata": {},
   "outputs": [],
   "source": [
    "s1 = \"h01\"\n",
    "s2 = \"hi1\"\n",
    "s3 = min(s1,s2)"
   ]
  },
  {
   "cell_type": "code",
   "execution_count": 6,
   "id": "2c777078",
   "metadata": {},
   "outputs": [
    {
     "data": {
      "text/plain": [
       "'h01'"
      ]
     },
     "execution_count": 6,
     "metadata": {},
     "output_type": "execute_result"
    }
   ],
   "source": [
    "s3"
   ]
  },
  {
   "cell_type": "code",
   "execution_count": 7,
   "id": "4a9eb63c",
   "metadata": {},
   "outputs": [
    {
     "data": {
      "text/plain": [
       "'a'"
      ]
     },
     "execution_count": 7,
     "metadata": {},
     "output_type": "execute_result"
    }
   ],
   "source": [
    "\"\"+\"a\""
   ]
  },
  {
   "cell_type": "code",
   "execution_count": 9,
   "id": "4b1155c9",
   "metadata": {},
   "outputs": [
    {
     "name": "stdout",
     "output_type": "stream",
     "text": [
      "Yes\n"
     ]
    }
   ],
   "source": [
    "if \"i\" in s2:\n",
    "    print(\"Yes\")"
   ]
  },
  {
   "cell_type": "code",
   "execution_count": 12,
   "id": "94cea104",
   "metadata": {},
   "outputs": [
    {
     "ename": "IndentationError",
     "evalue": "unexpected indent (1520926808.py, line 16)",
     "output_type": "error",
     "traceback": [
      "\u001b[1;36m  Cell \u001b[1;32mIn[12], line 16\u001b[1;36m\u001b[0m\n\u001b[1;33m    if i < len(str1):\u001b[0m\n\u001b[1;37m    ^\u001b[0m\n\u001b[1;31mIndentationError\u001b[0m\u001b[1;31m:\u001b[0m unexpected indent\n"
     ]
    }
   ],
   "source": [
    "def gcdOfStrings(str1, str2):\n",
    "    i, j =0, 0\n",
    "    output = \"\"\n",
    "    while i < len(str1) and j < len(str2):\n",
    "        if str1[i] == str2[j]:\n",
    "            if str1[i] in output:\n",
    "                pass\n",
    "            else:\n",
    "                output += str1[i]\n",
    "            i += 1\n",
    "            j += 1\n",
    "        else:\n",
    "            return \"\"\n",
    "        if i < len(str1):\n",
    "            if str1[i] not in output:\n",
    "                return \"\"\n",
    "            i += 1\n",
    "        if  j < len(str2):\n",
    "            if str2[j] not in output:\n",
    "                return \"\"\n",
    "            j += 1\n",
    "    return output"
   ]
  },
  {
   "cell_type": "code",
   "execution_count": 11,
   "id": "6c049f4b",
   "metadata": {},
   "outputs": [
    {
     "name": "stdout",
     "output_type": "stream",
     "text": [
      "\n"
     ]
    }
   ],
   "source": [
    "str1 = \"ABCABC\"\n",
    "str2 = \"ABC\"\n",
    "print(gcdOfStrings(str1, str2))"
   ]
  },
  {
   "cell_type": "code",
   "execution_count": null,
   "id": "846bf2ed",
   "metadata": {},
   "outputs": [],
   "source": []
  }
 ],
 "metadata": {
  "kernelspec": {
   "display_name": "Python 3 (ipykernel)",
   "language": "python",
   "name": "python3"
  },
  "language_info": {
   "codemirror_mode": {
    "name": "ipython",
    "version": 3
   },
   "file_extension": ".py",
   "mimetype": "text/x-python",
   "name": "python",
   "nbconvert_exporter": "python",
   "pygments_lexer": "ipython3",
   "version": "3.8.18"
  }
 },
 "nbformat": 4,
 "nbformat_minor": 5
}
